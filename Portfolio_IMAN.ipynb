{
 "cells": [
  {
   "cell_type": "markdown",
   "id": "3c129a21",
   "metadata": {},
   "source": [
    "# Below are some parts of the code I used in Iman Company to develope credit risk models using python and sql"
   ]
  },
  {
   "cell_type": "markdown",
   "id": "28ba6516",
   "metadata": {},
   "source": [
    "## Import data from PostgreSQL + Example of SQL code I used"
   ]
  },
  {
   "cell_type": "code",
   "execution_count": null,
   "id": "6ff5b9d2",
   "metadata": {},
   "outputs": [],
   "source": [
    "def fetch_query (query):\n",
    "    \n",
    "    with psycopg2.connect(host = '...', port = '...',\n",
    "                      dbname = '...', user = '...', password = '...') as con:\n",
    "        with con.cursor() as cursor:\n",
    "            cursor.execute(query)\n",
    "            fetched_result = cursor.fetchall()\n",
    "            \n",
    "            # Extract the column names\n",
    "            col_names = []\n",
    "            for elt in cursor.description:\n",
    "                col_names.append(elt[0])\n",
    "    \n",
    "    return fetched_result, col_names\n",
    "\n",
    "df, col_names = fetch_query(\"\"\"\n",
    "with max_overdue_days_tbl as\n",
    "(select ib.installment_id,\n",
    "    max(overdue_day) max_overdue_day,\n",
    "    max(overdue_day) filter(where ib.period_number = 1) max_overdue_day_fpd\n",
    "from installment_service_installment_bills ib\n",
    "join installment_service_installment i on ib.installment_id = i.guid\n",
    "where status != 'canceled'\n",
    "group by 1\n",
    "having max(overdue_day)>0)\n",
    "\n",
    "select count(installment_id) over(partition by created_at::date) daily_sales,\n",
    "installment_id,\n",
    "phone_number, \n",
    "bpm_p_date_start::date scoring_date, \n",
    "created_at::date purchased_date,\n",
    "coalesce(registration_adress_passport, registration_adress_cb),\n",
    " (CASE WHEN max_overdue_day >90\n",
    "       THEN 1\n",
    "       WHEN max_overdue_day <=90\n",
    "       THEN 0\n",
    "       ELSE Null\n",
    "  END) as npl90_flag,\n",
    " (CASE WHEN max_overdue_day >60\n",
    "       THEN 1\n",
    "       WHEN max_overdue_day <=60\n",
    "       THEN 0\n",
    "       ELSE Null\n",
    "  END) as npl60_flag,\n",
    "from scoring_tbl\n",
    "join max_overdue_days_tbl using(installment_id)\n",
    "\"\"\")\n",
    "data = pd.DataFrame(df, columns=col_names)"
   ]
  },
  {
   "cell_type": "markdown",
   "id": "8f2f6af3",
   "metadata": {},
   "source": [
    "## Checking npl90+ (bad clients) depending on credit history, income level and age\n",
    "Проверка npl90+ (bad clients) в зависимости от наличия кредитной истории, уровня дохода и возраста"
   ]
  },
  {
   "cell_type": "code",
   "execution_count": null,
   "id": "da03cdab",
   "metadata": {},
   "outputs": [],
   "source": [
    "# с помощью сводных таблиц\n",
    "round(pd.crosstab([data.fn_cb_has_crd_hst], [data.inc_cat, data.age_cat], values = data.bad, aggfunc='mean') * 100)"
   ]
  },
  {
   "cell_type": "markdown",
   "id": "f7f25b0a",
   "metadata": {},
   "source": [
    "## Box-and-whisker plot for downpayment percentage displaying"
   ]
  },
  {
   "cell_type": "code",
   "execution_count": null,
   "id": "0cdaaa45",
   "metadata": {},
   "outputs": [],
   "source": [
    "fig= plt.figure(figsize =(12, 2))\n",
    "plt.boxplot(data_del.query('downpayment>0')['downpayment']\n",
    "            / data_del.query('downpayment>0')['installment_amount'] * 100, vert=False)\n",
    "\n",
    "plt.title(\"Величина downpayment в процентах от величины рассрочки, в %\")\n",
    "plt.xlim(0, 8)\n",
    "plt.grid(True)\n",
    "\n",
    "plt.show()"
   ]
  },
  {
   "cell_type": "markdown",
   "id": "16be0726",
   "metadata": {},
   "source": [
    "## Checking the correlation between client and installment (credit) parameters (phik_matrix)\n",
    "Проверка корреляции между параметрами клиента и рассрочки (phik_matrix)"
   ]
  },
  {
   "cell_type": "code",
   "execution_count": null,
   "id": "0a74387f",
   "metadata": {},
   "outputs": [],
   "source": [
    "# матрица корреляции\n",
    "interval_cols = ['installment_amount', 'fn_cb_del_last_3y_max_buc',  'kred_nagruzka', 'age', 'final_income']\n",
    "\n",
    "corr_matrix = data[['installment_amount', 'bad_or_good_client_by_fpd_90dpd', \n",
    "                    'fn_cb_del_last_3y_max_buc', 'fn_cb_has_crd_hst', 'kred_nagruzka', \n",
    "                    'age', 'final_income']].phik_matrix(interval_cols=interval_cols)\n",
    "\n",
    "plot_correlation_matrix(corr_matrix.round(2).values, \n",
    "                        x_labels=corr_matrix.round(2).columns, \n",
    "                        y_labels=corr_matrix.round(2).index, \n",
    "                        vmin=0, vmax=1, color_map=\"Greens\", \n",
    "                        title=r\"correlation $\\phi_K$\", \n",
    "                        fontsize_factor=1.5, \n",
    "                        figsize=(14, 8))\n",
    "plt.tight_layout()"
   ]
  },
  {
   "cell_type": "markdown",
   "id": "d45b447d",
   "metadata": {},
   "source": [
    "## Checking correlation using the significance matrix\n",
    "Проверка корреляции по матрице значимости (significance_matrix)"
   ]
  },
  {
   "cell_type": "code",
   "execution_count": null,
   "id": "add51c77",
   "metadata": {},
   "outputs": [],
   "source": [
    "# построим матрицу значимости, чтобы проверить значима ли корреляци в таблице выше\n",
    "significance_overview = data_ml.significance_matrix(interval_cols=interval_cols)\n",
    "plot_correlation_matrix(significance_overview.fillna(0).values, \n",
    "                        x_labels=significance_overview.columns, \n",
    "                        y_labels=significance_overview.index, \n",
    "                        vmin=-5, vmax=5, title=\"Significance of the coefficients\", \n",
    "                        usetex=False, fontsize_factor=1.5, figsize=(16, 10))\n",
    "plt.tight_layout()"
   ]
  },
  {
   "cell_type": "markdown",
   "id": "757ad639",
   "metadata": {},
   "source": [
    "## Training ML model CatBoostClassifier\n",
    "Обучение ML модели CatBoostClassifier"
   ]
  },
  {
   "cell_type": "code",
   "execution_count": null,
   "id": "990135dd",
   "metadata": {},
   "outputs": [],
   "source": [
    "# создадим функцию для иттераций\n",
    "model=[]\n",
    "cat_features = ['fn_cb_has_crd_hst', 'gender', 'max_delay_3y_90d_flag', ....]\n",
    "\n",
    "def objective(trial):\n",
    "    model = CatBoostClassifier(random_state=130623, \n",
    "        iterations=trial.suggest_int(\"iterations\", 100, 300),\n",
    "        learning_rate = trial.suggest_categorical('learning_rate', [0.005, 0.02, 0.05, 0.08, 0.1]),\n",
    "        depth=trial.suggest_int(\"depth\", 4, 10),\n",
    "        verbose=False,\n",
    "        cat_features=cat_features)\n",
    "    scores = cross_val_score(model, features_train_cat, target_train, scoring='roc_auc', cv=5)\n",
    "    final_score = scores.mean()\n",
    "    return final_score\n",
    "\n",
    "# обучим модель\n",
    "study = optuna.create_study(direction = 'maximize')\n",
    "study.optimize(objective, n_trials = 10)\n",
    "print('Наилучший precision_score для модели CatBoostClassifier:', study.best_value)"
   ]
  },
  {
   "cell_type": "markdown",
   "id": "e4e28652",
   "metadata": {},
   "source": [
    "## Testing ML model CatBoostClassifier\n",
    "Тестирование ML модели CatBoostClassifier"
   ]
  },
  {
   "cell_type": "code",
   "execution_count": null,
   "id": "ea436871",
   "metadata": {},
   "outputs": [],
   "source": [
    "cat_features = category_columns\n",
    "model = CatBoostClassifier(random_state=130623, \n",
    "                           iterations=127, \n",
    "                           learning_rate = 0.08, \n",
    "                           verbose=False, \n",
    "                           depth=4,\n",
    "                           cat_features=cat_features)\n",
    "model.fit(features_train_cat, target_train)\n",
    "predictions = model.predict(features_test_cat)\n",
    "predictions_proba = model.predict_proba(features_test_cat)\n",
    "\n",
    "print('AUC ROC модели  CatBoostClassifier на тестовой выборке:', \n",
    "      roc_auc_score(target_test, predictions_proba[:,1]))\n",
    "\n",
    "# построим матрицу ошибок\n",
    "pd.DataFrame(confusion_matrix( target_test, predictions),\n",
    "             columns = ['Forecast 0', 'Forecast 1'],\n",
    "             index = ['Actual 0', 'Actual 1'])"
   ]
  }
 ],
 "metadata": {
  "kernelspec": {
   "display_name": "Python 3 (ipykernel)",
   "language": "python",
   "name": "python3"
  },
  "language_info": {
   "codemirror_mode": {
    "name": "ipython",
    "version": 3
   },
   "file_extension": ".py",
   "mimetype": "text/x-python",
   "name": "python",
   "nbconvert_exporter": "python",
   "pygments_lexer": "ipython3",
   "version": "3.9.13"
  }
 },
 "nbformat": 4,
 "nbformat_minor": 5
}
